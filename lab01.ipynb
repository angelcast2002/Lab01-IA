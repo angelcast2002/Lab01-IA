{
 "cells": [
  {
   "cell_type": "markdown",
   "metadata": {},
   "source": [
    "## Task 01"
   ]
  },
  {
   "cell_type": "markdown",
   "metadata": {},
   "source": [
    "1. Considera un modelo de regresión lineal con dos características, X₁ y X₂, y sus pesos correspondientes w₁ y\n",
    "w₂. Si el modelo predice una salida y mediante la ecuación y = 2w₁X₁ + 3w₂X₂ + 1, ¿cuál es la interpretación\n",
    "del coeficiente 3w₂ en el contexto del modelo?"
   ]
  },
  {
   "cell_type": "markdown",
   "metadata": {},
   "source": [
    "Representa el coeficiente de regresión sin estandarizar, el cual se calcula siguiendo el método de los mínimos cuadrados ordinarios y hay uno de dichos coeficientes para cada variable independiente.\n",
    "Es el cambio estimado en unidades de \"y\" que se deriva del incremento de X₂ (variable independiente) cuando X₁ se mantiene constante.\n",
    "\n",
    "https://physiostats.com/regresion-lineal-interpretacion-coeficientes/"
   ]
  },
  {
   "cell_type": "markdown",
   "metadata": {},
   "source": [
    "2. Explica el concepto de multicolinealidad en el contexto de la regresión lineal. ¿Cómo afecta la\n",
    "multicolinealidad a la interpretación de los coeficientes de regresión individuales?"
   ]
  },
  {
   "cell_type": "markdown",
   "metadata": {},
   "source": [
    "La multicolinealidad en la regresión lineal ocurre cuando las variables que se usan para predecir están muy conectadas. Esto causa resultados extraños en las interpretaciones y reduce la precisión de los coeficientes. También dificulta la identificación de variables importantes y puede conducir a problemas numéricos. (Sevilla, A. 2019)\n",
    "\n",
    "https://economipedia.com/definiciones/multicolinealidad.html"
   ]
  },
  {
   "cell_type": "markdown",
   "metadata": {},
   "source": [
    "## Task 02"
   ]
  },
  {
   "cell_type": "code",
   "execution_count": 107,
   "metadata": {},
   "outputs": [],
   "source": [
    "import pandas as pd\n",
    "import numpy as np\n",
    "from sklearn.preprocessing import StandardScaler\n",
    "from sklearn.feature_selection import SelectKBest, f_classif\n",
    "import matplotlib.pyplot as plt\n",
    "import seaborn as sns"
   ]
  },
  {
   "cell_type": "code",
   "execution_count": 109,
   "metadata": {},
   "outputs": [
    {
     "data": {
      "text/html": [
       "<div>\n",
       "<style scoped>\n",
       "    .dataframe tbody tr th:only-of-type {\n",
       "        vertical-align: middle;\n",
       "    }\n",
       "\n",
       "    .dataframe tbody tr th {\n",
       "        vertical-align: top;\n",
       "    }\n",
       "\n",
       "    .dataframe thead th {\n",
       "        text-align: right;\n",
       "    }\n",
       "</style>\n",
       "<table border=\"1\" class=\"dataframe\">\n",
       "  <thead>\n",
       "    <tr style=\"text-align: right;\">\n",
       "      <th></th>\n",
       "      <th>ip</th>\n",
       "      <th>length_url</th>\n",
       "      <th>nb_www</th>\n",
       "      <th>ratio_digits_url</th>\n",
       "      <th>phish_hints</th>\n",
       "      <th>nb_hyperlinks</th>\n",
       "      <th>domain_in_title</th>\n",
       "      <th>google_index</th>\n",
       "      <th>page_rank</th>\n",
       "    </tr>\n",
       "  </thead>\n",
       "  <tbody>\n",
       "    <tr>\n",
       "      <th>0</th>\n",
       "      <td>0</td>\n",
       "      <td>37</td>\n",
       "      <td>1</td>\n",
       "      <td>0.000000</td>\n",
       "      <td>0</td>\n",
       "      <td>17</td>\n",
       "      <td>0</td>\n",
       "      <td>1</td>\n",
       "      <td>4</td>\n",
       "    </tr>\n",
       "    <tr>\n",
       "      <th>1</th>\n",
       "      <td>1</td>\n",
       "      <td>77</td>\n",
       "      <td>0</td>\n",
       "      <td>0.220779</td>\n",
       "      <td>0</td>\n",
       "      <td>30</td>\n",
       "      <td>1</td>\n",
       "      <td>1</td>\n",
       "      <td>2</td>\n",
       "    </tr>\n",
       "    <tr>\n",
       "      <th>2</th>\n",
       "      <td>1</td>\n",
       "      <td>126</td>\n",
       "      <td>0</td>\n",
       "      <td>0.150794</td>\n",
       "      <td>0</td>\n",
       "      <td>4</td>\n",
       "      <td>1</td>\n",
       "      <td>1</td>\n",
       "      <td>0</td>\n",
       "    </tr>\n",
       "    <tr>\n",
       "      <th>3</th>\n",
       "      <td>0</td>\n",
       "      <td>18</td>\n",
       "      <td>0</td>\n",
       "      <td>0.000000</td>\n",
       "      <td>0</td>\n",
       "      <td>149</td>\n",
       "      <td>1</td>\n",
       "      <td>0</td>\n",
       "      <td>3</td>\n",
       "    </tr>\n",
       "    <tr>\n",
       "      <th>4</th>\n",
       "      <td>0</td>\n",
       "      <td>55</td>\n",
       "      <td>1</td>\n",
       "      <td>0.000000</td>\n",
       "      <td>0</td>\n",
       "      <td>102</td>\n",
       "      <td>0</td>\n",
       "      <td>0</td>\n",
       "      <td>6</td>\n",
       "    </tr>\n",
       "  </tbody>\n",
       "</table>\n",
       "</div>"
      ],
      "text/plain": [
       "   ip  length_url  nb_www  ratio_digits_url  phish_hints  nb_hyperlinks  \\\n",
       "0   0          37       1          0.000000            0             17   \n",
       "1   1          77       0          0.220779            0             30   \n",
       "2   1         126       0          0.150794            0              4   \n",
       "3   0          18       0          0.000000            0            149   \n",
       "4   0          55       1          0.000000            0            102   \n",
       "\n",
       "   domain_in_title  google_index  page_rank  \n",
       "0                0             1          4  \n",
       "1                1             1          2  \n",
       "2                1             1          0  \n",
       "3                1             0          3  \n",
       "4                0             0          6  "
      ]
     },
     "execution_count": 109,
     "metadata": {},
     "output_type": "execute_result"
    }
   ],
   "source": [
    "# Cargar el conjunto de datos desde el archivo CSV\n",
    "file_path = 'dataset_phishing.csv'\n",
    "df = pd.read_csv(file_path)\n",
    "\n",
    "X = df[['ip', 'length_url', 'nb_www', 'ratio_digits_url', 'phish_hints',\n",
    "  'nb_hyperlinks', 'domain_in_title', 'google_index',\n",
    "  'page_rank']]\n",
    "y = df.iloc[:, -1]\n",
    "\n",
    "X.head()"
   ]
  },
  {
   "cell_type": "code",
   "execution_count": 110,
   "metadata": {},
   "outputs": [],
   "source": [
    "dummies = pd.get_dummies(y)\n",
    "concatenado = pd.concat([y, dummies], axis=1)\n",
    "concatenado = concatenado.drop(['status', \"legitimate\"], axis=1)\n",
    "y = concatenado\n"
   ]
  },
  {
   "cell_type": "code",
   "execution_count": 111,
   "metadata": {},
   "outputs": [
    {
     "data": {
      "image/png": "[encoded data removed]",
      "text/plain": [
       "<Figure size 640x480 with 1 Axes>"
      ]
     },
     "metadata": {},
     "output_type": "display_data"
    }
   ],
   "source": [
    "# Revisar si el dataset está balanceado\n",
    "sns.countplot(x='phishing', data=y)\n",
    "plt.title('Distribución de la variable objetivo')\n",
    "plt.show()"
   ]
  },
  {
   "cell_type": "code",
   "execution_count": 112,
   "metadata": {},
   "outputs": [
    {
     "name": "stdout",
     "output_type": "stream",
     "text": [
      "<class 'numpy.ndarray'>\n",
      "<class 'numpy.ndarray'>\n"
     ]
    }
   ],
   "source": [
    "X = X.values\n",
    "y = y.values\n",
    "print(type(X))\n",
    "print(type(y))"
   ]
  },
  {
   "cell_type": "markdown",
   "metadata": {},
   "source": [
    "- Cambiamos el formato de los datos en y"
   ]
  },
  {
   "cell_type": "code",
   "execution_count": 113,
   "metadata": {},
   "outputs": [
    {
     "data": {
      "text/plain": [
       "array([False,  True,  True, ..., False, False,  True])"
      ]
     },
     "execution_count": 113,
     "metadata": {},
     "output_type": "execute_result"
    }
   ],
   "source": [
    "y\n",
    "y = y[:, -1]\n",
    "y"
   ]
  },
  {
   "cell_type": "code",
   "execution_count": 114,
   "metadata": {},
   "outputs": [],
   "source": [
    "from sklearn.model_selection import train_test_split\n",
    "X_entreno, X_prueba, y_entreno, y_prueba = train_test_split(X, y, test_size = 0.3, random_state = 1)\n",
    "#X_entreno, X_temp, y_entreno, y_temp = train_test_split(X, y, test_size = 0.3, random_state = 1)"
   ]
  },
  {
   "cell_type": "code",
   "execution_count": 103,
   "metadata": {},
   "outputs": [],
   "source": [
    "#X_prueba, X_check, y_prueba, y_check = train_test_split(X_temp, y_temp, test_size = 0.33, random_state = 1)"
   ]
  },
  {
   "cell_type": "code",
   "execution_count": 115,
   "metadata": {},
   "outputs": [
    {
     "name": "stdout",
     "output_type": "stream",
     "text": [
      "[[ 0. 29.  0. ...  1.  1.  5.]\n",
      " [ 0. 18.  0. ...  1.  0.  0.]\n",
      " [ 0. 40.  1. ...  1.  1.  5.]\n",
      " ...\n",
      " [ 1. 40.  0. ...  1.  1.  5.]\n",
      " [ 0. 43.  1. ...  0.  0. 10.]\n",
      " [ 0. 60.  1. ...  1.  0.  4.]]\n",
      "[[  0.  51.   1. ...   1.   0.   6.]\n",
      " [  1. 164.   1. ...   1.   1.   1.]\n",
      " [  1. 238.   0. ...   1.   0.   5.]\n",
      " ...\n",
      " [  0.  35.   0. ...   1.   0.   5.]\n",
      " [  0.  20.   0. ...   0.   0.   2.]\n",
      " [  1.  77.   0. ...   1.   1.   2.]]\n",
      "[ True  True False ...  True False False]\n",
      "[False  True  True ... False False  True]\n"
     ]
    }
   ],
   "source": [
    "print(X_entreno)\n",
    "print(X_prueba)\n",
    "#print(X_check)\n",
    "print(y_entreno)\n",
    "print(y_prueba)\n",
    "#print(y_check)"
   ]
  },
  {
   "cell_type": "markdown",
   "metadata": {},
   "source": [
    "#### Normalizando los datos"
   ]
  },
  {
   "cell_type": "code",
   "execution_count": 116,
   "metadata": {},
   "outputs": [
    {
     "data": {
      "text/plain": [
       "array([[-0.42025902, -0.18084394,  1.09379597, ...,  0.53471574,\n",
       "        -1.07437475,  1.12188874],\n",
       "       [ 2.3794849 ,  1.77059612,  1.09379597, ...,  0.53471574,\n",
       "         0.93077392, -0.85090946],\n",
       "       [ 2.3794849 ,  3.04853032, -0.90061186, ...,  0.53471574,\n",
       "        -1.07437475,  0.7273291 ],\n",
       "       ...,\n",
       "       [-0.42025902, -0.45715404, -0.90061186, ...,  0.53471574,\n",
       "        -1.07437475,  0.7273291 ],\n",
       "       [-0.42025902, -0.71619475, -0.90061186, ..., -1.87015253,\n",
       "        -1.07437475, -0.45634982],\n",
       "       [ 2.3794849 ,  0.26815997, -0.90061186, ...,  0.53471574,\n",
       "         0.93077392, -0.45634982]])"
      ]
     },
     "execution_count": 116,
     "metadata": {},
     "output_type": "execute_result"
    }
   ],
   "source": [
    "from sklearn.preprocessing import StandardScaler\n",
    "standar_x = StandardScaler()\n",
    "X_entreno = standar_x.fit_transform(X_entreno)\n",
    "X_prueba = standar_x.transform(X_prueba)\n",
    "X_entreno\n",
    "X_prueba"
   ]
  },
  {
   "cell_type": "markdown",
   "metadata": {},
   "source": [
    "- Recuerde definir de forma clara y razonada (es decir, diga el por qué de su elección) de una métrica de\n",
    "desempeño principal"
   ]
  },
  {
   "cell_type": "markdown",
   "metadata": {},
   "source": [
    "### Regresion Logistica - implementacion"
   ]
  },
  {
   "cell_type": "code",
   "execution_count": 133,
   "metadata": {},
   "outputs": [],
   "source": [
    "def gradiente_w(w, b):\n",
    "    gradiente = [0, 0]\n",
    "    gradiente[0] = 1/(1+np.exp(-(X_entreno[1]*w+b)))\n",
    "    gradiente[1] = (gradiente[0]-y_entreno[0])*X_entreno[1]\n",
    "    derivative = gradiente[1].mean()\n",
    "    return(derivative) \n",
    "\n",
    "def gradiente_b(w, b):\n",
    "    gradiente = [0, 0]\n",
    "    gradiente[0] = 1/(1+np.exp(-(X_entreno[1]*w+b)))\n",
    "    gradiente[1] = (gradiente[0]-y_entreno[0])\n",
    "    derivative = gradiente[1].mean()\n",
    "    return(derivative) \n"
   ]
  },
  {
   "cell_type": "code",
   "execution_count": 139,
   "metadata": {},
   "outputs": [
    {
     "name": "stdout",
     "output_type": "stream",
     "text": [
      "-1.1832796197551263\n",
      "2.844209603010604\n"
     ]
    }
   ],
   "source": [
    "pasos_w = 0.01\n",
    "pasos_b = 0.01\n",
    "\n",
    "for i in range(1000):\n",
    "    w = w - pasos_w*gradiente_w(w, b)\n",
    "    b = b - pasos_b*gradiente_b(w, b)\n",
    "\n",
    "print(w)\n",
    "print(b)"
   ]
  },
  {
   "cell_type": "markdown",
   "metadata": {},
   "source": [
    "### Regresión Logística - Librerias"
   ]
  },
  {
   "cell_type": "code",
   "execution_count": null,
   "metadata": {},
   "outputs": [
    {
     "ename": "NameError",
     "evalue": "name 'X_entreno' is not defined",
     "output_type": "error",
     "traceback": [
      "\u001b[1;31m---------------------------------------------------------------------------\u001b[0m",
      "\u001b[1;31mNameError\u001b[0m                                 Traceback (most recent call last)",
      "Cell \u001b[1;32mIn[11], line 4\u001b[0m\n\u001b[0;32m      2\u001b[0m \u001b[38;5;28;01mfrom\u001b[39;00m \u001b[38;5;21;01msklearn\u001b[39;00m\u001b[38;5;21;01m.\u001b[39;00m\u001b[38;5;21;01mlinear_model\u001b[39;00m \u001b[38;5;28;01mimport\u001b[39;00m LogisticRegression\n\u001b[0;32m      3\u001b[0m regresor \u001b[38;5;241m=\u001b[39m LogisticRegression(max_iter\u001b[38;5;241m=\u001b[39m\u001b[38;5;241m1000\u001b[39m)\n\u001b[1;32m----> 4\u001b[0m regresor\u001b[38;5;241m.\u001b[39mfit(\u001b[43mX_entreno\u001b[49m, y_entreno)\n",
      "\u001b[1;31mNameError\u001b[0m: name 'X_entreno' is not defined"
     ]
    }
   ],
   "source": [
    "# Entrenamiento del modelo\n",
    "from sklearn.linear_model import LogisticRegression\n",
    "regresor = LogisticRegression(max_iter=1000)\n",
    "regresor.fit(X_entreno, y_entreno)"
   ]
  },
  {
   "cell_type": "code",
   "execution_count": null,
   "metadata": {},
   "outputs": [
    {
     "ename": "NameError",
     "evalue": "name 'regresor' is not defined",
     "output_type": "error",
     "traceback": [
      "\u001b[1;31m---------------------------------------------------------------------------\u001b[0m",
      "\u001b[1;31mNameError\u001b[0m                                 Traceback (most recent call last)",
      "Cell \u001b[1;32mIn[5], line 1\u001b[0m\n\u001b[1;32m----> 1\u001b[0m y_pred \u001b[38;5;241m=\u001b[39m \u001b[43mregresor\u001b[49m\u001b[38;5;241m.\u001b[39mpredict(X_prueba)\n\u001b[0;32m      2\u001b[0m \u001b[38;5;28mprint\u001b[39m(y_pred)\n",
      "\u001b[1;31mNameError\u001b[0m: name 'regresor' is not defined"
     ]
    }
   ],
   "source": [
    "y_pred = regresor.predict(X_prueba)\n",
    "print(y_pred)"
   ]
  },
  {
   "cell_type": "code",
   "execution_count": null,
   "metadata": {},
   "outputs": [
    {
     "name": "stdout",
     "output_type": "stream",
     "text": [
      "3429\n"
     ]
    }
   ],
   "source": [
    "print(len(y_pred))"
   ]
  },
  {
   "cell_type": "code",
   "execution_count": null,
   "metadata": {},
   "outputs": [
    {
     "name": "stdout",
     "output_type": "stream",
     "text": [
      "8001\n"
     ]
    }
   ],
   "source": [
    "print(len(y_entreno))"
   ]
  },
  {
   "cell_type": "code",
   "execution_count": null,
   "metadata": {},
   "outputs": [
    {
     "name": "stdout",
     "output_type": "stream",
     "text": [
      "8001\n"
     ]
    }
   ],
   "source": [
    "print(len(X_entreno))"
   ]
  },
  {
   "cell_type": "code",
   "execution_count": null,
   "metadata": {},
   "outputs": [
    {
     "data": {
      "text/plain": [
       "array([False,  True,  True, ..., False, False,  True])"
      ]
     },
     "execution_count": 143,
     "metadata": {},
     "output_type": "execute_result"
    }
   ],
   "source": [
    "y_pred\n",
    "y_prueba"
   ]
  },
  {
   "cell_type": "markdown",
   "metadata": {},
   "source": [
    "### Evaluacion"
   ]
  },
  {
   "cell_type": "markdown",
   "metadata": {},
   "source": [
    "### Matriz de confucion"
   ]
  },
  {
   "cell_type": "code",
   "execution_count": null,
   "metadata": {},
   "outputs": [
    {
     "data": {
      "text/plain": [
       "array([[1575,  136],\n",
       "       [ 150, 1568]], dtype=int64)"
      ]
     },
     "execution_count": 144,
     "metadata": {},
     "output_type": "execute_result"
    }
   ],
   "source": [
    "from sklearn.metrics import confusion_matrix\n",
    "conf_mat = confusion_matrix(y_prueba, y_pred)\n",
    "conf_mat"
   ]
  },
  {
   "cell_type": "code",
   "execution_count": null,
   "metadata": {},
   "outputs": [
    {
     "data": {
      "text/plain": [
       "0.45931758530183725"
      ]
     },
     "execution_count": 145,
     "metadata": {},
     "output_type": "execute_result"
    }
   ],
   "source": [
    "1575/len(y_pred)"
   ]
  },
  {
   "cell_type": "code",
   "execution_count": null,
   "metadata": {},
   "outputs": [
    {
     "data": {
      "image/png": "[encoded data removed]",
      "text/plain": [
       "<Figure size 640x480 with 1 Axes>"
      ]
     },
     "metadata": {},
     "output_type": "display_data"
    }
   ],
   "source": [
    "import pandas as pd\n",
    "import seaborn as sns\n",
    "import matplotlib.pyplot as plt\n",
    "\n",
    "# Suponiendo que 'x' y 'y' son las variables que deseas graficar\n",
    "# y que 'y_pred' contiene las predicciones\n",
    "\n",
    "# Crear un DataFrame para las predicciones\n",
    "#predic = pd.DataFrame({'y_pred':X_entreno[0], 'y_true': X_entreno[0]})\n",
    "\n",
    "# Crear un gráfico de regresión logística\n",
    "sns.regplot(x=X_entreno[0], y=X_entreno[6], data=y_pred, logistic=True, ci=None)\n",
    "\n",
    "# Añadir etiquetas y título al gráfico\n",
    "plt.xlabel('domain_in_title')\n",
    "plt.ylabel('Ip')\n",
    "plt.title('Gráfico de Regresión Logística')\n",
    "\n",
    "# Mostrar el gráfico\n",
    "plt.show()\n"
   ]
  }
 ],
 "metadata": {
  "kernelspec": {
   "display_name": "Python 3",
   "language": "python",
   "name": "python3"
  },
  "language_info": {
   "codemirror_mode": {
    "name": "ipython",
    "version": 3
   },
   "file_extension": ".py",
   "mimetype": "text/x-python",
   "name": "python",
   "nbconvert_exporter": "python",
   "pygments_lexer": "ipython3",
   "version": "3.11.4"
  }
 },
 "nbformat": 4,
 "nbformat_minor": 2
}
